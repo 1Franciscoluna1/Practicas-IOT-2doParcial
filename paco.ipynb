{
 "cells": [
  {
   "cell_type": "code",
   "execution_count": null,
   "metadata": {},
   "outputs": [],
   "source": [
    "esptool --chip esp32 erase_flash"
   ]
  },
  {
   "cell_type": "code",
   "execution_count": null,
   "metadata": {},
   "outputs": [],
   "source": [
    "esptool --chip esp32 --port COM3 write_flash -z 0x1000 ESP32_GENERIC-20240602-v1.23.0.bin"
   ]
  }
 ],
 "metadata": {
  "language_info": {
   "name": "python"
  }
 },
 "nbformat": 4,
 "nbformat_minor": 2
}
